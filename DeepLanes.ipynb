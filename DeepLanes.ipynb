{
 "cells": [
  {
   "cell_type": "code",
   "execution_count": 1,
   "metadata": {},
   "outputs": [
    {
     "name": "stderr",
     "output_type": "stream",
     "text": [
      "Using TensorFlow backend.\n"
     ]
    }
   ],
   "source": [
    "import numpy as np\n",
    "import keras\n",
    "import tensorflow as tf"
   ]
  },
  {
   "cell_type": "markdown",
   "metadata": {},
   "source": [
    "# Build model"
   ]
  },
  {
   "cell_type": "markdown",
   "metadata": {},
   "source": [
    "The input is first fed through a convolutional layer, consisting\n",
    "of 32 filters with size of 18 × 18 and stride 6. Although\n",
    "it usually is difficult to argue or justify choices of\n",
    "hyperparameter in deep learning applications, for this application\n",
    "we chose a large filter size that roughly corresponds\n",
    "to half the width of a lane marking in the input image. The\n",
    "second convolution layer has a filter size of roughly half the\n",
    "previous convolution layer. Both convolution layers are followed\n",
    "by normalization and 3×3 pooling layer. The output\n",
    "of the convolution layers are fed into two fully connected\n",
    "layers with 2048 parameters. The dropout technique with a\n",
    "rate of 0.5 is applied in between the fully connected layers\n",
    "as a regularization measure. To obtain a probability distribution,\n",
    "the softmax function is applied to the output of the\n",
    "last fully connected layer with 317 outputs: 316 possible\n",
    "classes for lane positions and one class for the absence of\n",
    "lane marker. Rectified linear units are used as activation\n",
    "functions."
   ]
  },
  {
   "cell_type": "code",
   "execution_count": 2,
   "metadata": {
    "collapsed": true
   },
   "outputs": [],
   "source": [
    "model = keras.Sequential()\n",
    "\n",
    "model.add(keras.layers.Conv2D(filters=32, kernel_size=(18, 18), strides=(6, 6), input_shape=(240, 360, 3), activation='relu'))\n",
    "\n",
    "model.add(keras.layers.BatchNormalization())\n",
    "\n",
    "model.add(keras.layers.MaxPool2D(pool_size=(3, 3)))\n",
    "\n",
    "model.add(keras.layers.Conv2D(64, (10, 10), strides=(1, 1), activation='relu'))\n",
    "\n",
    "model.add(keras.layers.BatchNormalization())\n",
    "\n",
    "model.add(keras.layers.MaxPool2D(pool_size=(3, 3)))\n",
    "\n",
    "model.add(keras.layers.Flatten())\n",
    "\n",
    "model.add(keras.layers.Dense(units=2048, activation='relu'))\n",
    "\n",
    "model.add(keras.layers.Dropout(rate=0.5))\n",
    "\n",
    "model.add(keras.layers.Dense(units=2048, activation='relu'))\n",
    "\n",
    "model.add(keras.layers.Dropout(rate=0.5))\n",
    "\n",
    "model.add(keras.layers.Dense(units=317, activation='softmax'))"
   ]
  },
  {
   "cell_type": "markdown",
   "metadata": {},
   "source": [
    "Model compile"
   ]
  },
  {
   "cell_type": "code",
   "execution_count": 3,
   "metadata": {
    "collapsed": true
   },
   "outputs": [],
   "source": [
    "model.compile(optimizer=keras.optimizers.Adam(lr=0.5, decay=0.8**(1/3)), loss='categorical_crossentropy', metrics=['accuracy'])"
   ]
  },
  {
   "cell_type": "code",
   "execution_count": null,
   "metadata": {
    "collapsed": true
   },
   "outputs": [],
   "source": []
  }
 ],
 "metadata": {
  "kernelspec": {
   "display_name": "Python 3",
   "language": "python",
   "name": "python3"
  },
  "language_info": {
   "codemirror_mode": {
    "name": "ipython",
    "version": 3
   },
   "file_extension": ".py",
   "mimetype": "text/x-python",
   "name": "python",
   "nbconvert_exporter": "python",
   "pygments_lexer": "ipython3",
   "version": "3.6.1"
  }
 },
 "nbformat": 4,
 "nbformat_minor": 2
}
